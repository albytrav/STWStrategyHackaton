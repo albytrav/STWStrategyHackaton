{
 "cells": [
  {
   "cell_type": "markdown",
   "metadata": {},
   "source": [
    "# WORC Tutorial: Simple\n",
    "\n",
    "Welcome to the tutorial of WORC: a Workflow for Optimal Radiomics Classification! It will provide you with basis knowledge and practical skills on how to run the WORC. For advanced topics and WORCflows, please see the other notebooks provided with this tutorial. For installation details, see the ReadMe.md provided with this tutorial.\n",
    "\n",
    "\n",
    "This tutorial interacts with  WORC through SimpleWORC and is especially suitable for first time usage. We first do some neccesary imports."
   ]
  },
  {
   "cell_type": "code",
   "execution_count": null,
   "metadata": {},
   "outputs": [],
   "source": [
    "# NOTE: Uncomment and run these lines when using Google Colab\n",
    "# !pip install WORC\n",
    "# !git clone https://github.com/MStarmans91/WORCTutorial"
   ]
  },
  {
   "cell_type": "code",
   "execution_count": null,
   "metadata": {},
   "outputs": [],
   "source": [
    "# Import neccesary packages\n",
    "from WORC import SimpleWORC\n",
    "import os\n",
    "\n",
    "# These packages are only used in analysing the results\n",
    "import pandas as pd\n",
    "import json\n",
    "import fastr\n",
    "import glob\n",
    "\n",
    "# If you don't want to use your own data, we use the following example set,\n",
    "# see also the next code block in this example.\n",
    "from WORC.exampledata.datadownloader import download_HeadAndNeck\n",
    "\n",
    "# Define the folder this script is in, so we can easily find the example data\n",
    "script_path = os.getcwd()\n",
    "\n",
    "# NOTE: If on Google Colab, uncomment this line\n",
    "# script_path = os.path.join(script_path, 'WORCRadiomix')\n",
    "data_path = os.path.join(script_path, 'Data')"
   ]
  },
  {
   "cell_type": "markdown",
   "metadata": {},
   "source": [
    "\n",
    "\n",
    "---------------------------------------------------------------------------\n",
    "Input\n",
    "---------------------------------------------------------------------------"
   ]
  },
  {
   "cell_type": "markdown",
   "metadata": {},
   "source": [
    "Define the inputs of our network"
   ]
  },
  {
   "cell_type": "code",
   "execution_count": null,
   "metadata": {},
   "outputs": [],
   "source": [
    "# File in which your features are stored\n",
    "feature_xlsx = os.path.join(data_path, 'Features.xlsx')\n",
    "\n",
    "# File in which the labels (i.e. outcome you want to predict) is stated\n",
    "# Again, change this accordingly if you use your own data.\n",
    "label_file = os.path.join(data_path, 'pinfo_2y.csv')\n",
    "\n",
    "# Name of the label you want to predict\n",
    "label_name = '2ysurv'\n",
    "\n",
    "# Determine whether we want to do a coarse quick experiment, or a full lengthy\n",
    "# one. Again, change this accordingly if you use your own data.\n",
    "coarse = True\n",
    "\n",
    "# Give your experiment a name\n",
    "experiment_name = 'Example_Lung'\n",
    "\n",
    "# Instead of the default tempdir, let's but the temporary output in a subfolder\n",
    "# in the same folder as this script\n",
    "tmpdir = os.path.join(script_path, 'WORC_' + experiment_name)\n",
    "\n",
    "# Override some fields in the config\n",
    "config_overrides = {\n",
    "    \"Imputation\" : {  # Since we have missing features, we are gonna use imputation\n",
    "        \"use\" : 'True'\n",
    "    },\n",
    "    \"Featsel\":{  # With >4000 features and nfeat >> npat, feature selection seems neccesary.\n",
    "                # Also saves a lot of time: vs 1.5 hr in classify\n",
    "        \"StatisticalTestUse\": \"False\",  # You can switch on a statistic threshold feature selection method if you want with changing this\n",
    "            # but other options are also possible. See\n",
    "            # https://worc.readthedocs.io/en/latest/static/configuration.html#featsel\n",
    "        \"StatisticalTestMetric\": \"MannWhitneyU\",\n",
    "        \"StatisticalTestThreshold\": \"-2.0, 1.0\"\n",
    "    }\n",
    "}"
   ]
  },
  {
   "cell_type": "markdown",
   "metadata": {},
   "source": [
    "\n",
    "---------------------------------------------------------------------------\n",
    "The actual experiment\n",
    "-------------------------------\n",
    "--------------------------------------------"
   ]
  },
  {
   "cell_type": "code",
   "execution_count": null,
   "metadata": {},
   "outputs": [],
   "source": [
    "# Create a Simple WORC object\n",
    "experiment = SimpleWORC(experiment_name)\n",
    "\n",
    "# Set the input data according to the variables we defined earlier\n",
    "experiment.features_from_radiomix_xlsx(feature_xlsx)\n",
    "\n",
    "experiment.labels_from_this_file(label_file)\n",
    "experiment.predict_labels([label_name])\n",
    "\n",
    "# Use the standard workflow for binary classification\n",
    "experiment.binary_classification(coarse=coarse)\n",
    "\n",
    "# Add our manual config overrides\n",
    "experiment.add_config_overrides(config_overrides)\n",
    "\n",
    "# Set the temporary directory\n",
    "# NOTE: Uncomment when using Google Colab\n",
    "experiment.set_tmpdir(tmpdir)"
   ]
  },
  {
   "cell_type": "code",
   "execution_count": null,
   "metadata": {},
   "outputs": [],
   "source": [
    "# Run the experiment!\n",
    "experiment.execute()"
   ]
  },
  {
   "cell_type": "markdown",
   "metadata": {},
   "source": [
    "---------------------------------------------------------------------------\n",
    "Analysis of results\n",
    "---------------------------------------------------------------------------\n",
    "\n",
    "There are two main outputs: the features for each patient/object, and the overall\n",
    "performance. These are stored as .hdf5 and .json files, respectively. By\n",
    "default, they are saved in the so-called \"fastr output mount\", in a subfolder\n",
    "named after your experiment name."
   ]
  },
  {
   "cell_type": "code",
   "execution_count": null,
   "metadata": {},
   "outputs": [],
   "source": [
    "# Locate output folder\n",
    "outputfolder = fastr.config.mounts['output']\n",
    "experiment_folder = os.path.join(outputfolder, 'WORC_' + experiment_name)\n",
    "\n",
    "print(f\"Your output is stored in {experiment_folder}.\")\n",
    "\n",
    "# Read the features for the first patient\n",
    "# NOTE: we use the glob package for scanning a folder to find specific files\n",
    "feature_files = glob.glob(os.path.join(experiment_folder,\n",
    "                                       'Features',\n",
    "                                       'features_*.hdf5'))\n",
    "featurefile_p1 = feature_files[0]\n",
    "features_p1 = pd.read_hdf(featurefile_p1)\n",
    "\n",
    "# Read the overall peformance\n",
    "performance_file = os.path.join(experiment_folder, 'performance_all_0.json')\n",
    "with open(performance_file, 'r') as fp:\n",
    "    performance = json.load(fp)\n",
    "\n",
    "# Print the feature values and names\n",
    "print(\"Feature values:\")\n",
    "for v, l in zip(features_p1.feature_values, features_p1.feature_labels):\n",
    "    print(f\"\\t {l} : {v}.\")\n",
    "\n",
    "# Print the output performance\n",
    "print(\"\\n Performance:\")\n",
    "stats = performance['Statistics']\n",
    "del stats['Percentages']  # Omitted for brevity\n",
    "for k, v in stats.items():\n",
    "    print(f\"\\t {k} {v}.\")"
   ]
  },
  {
   "cell_type": "markdown",
   "metadata": {},
   "source": [
    "**NOTE:** the performance is probably horrible, which is expected as we ran\n",
    "the experiment on coarse settings. These settings are recommended to only\n",
    "use for testing: see also below.\n"
   ]
  },
  {
   "cell_type": "markdown",
   "metadata": {},
   "source": [
    "---------------------------------------------------------------------------\n",
    "Tips and Tricks\n",
    "---------------------------------------------------------------------------\n",
    "\n",
    "For tips and tricks on running a full experiment instead of this simple\n",
    "example, adding more evaluation options, debuggin a crashed network etcetera,\n",
    "please go to https://worc.readthedocs.io/en/latest/static/user_manual.html\n",
    "\n",
    "Some things we would advice to always do:\n",
    "  - Run actual experiments on the full settings (coarse=False):\n",
    "  \n",
    "      ``coarse = False``\n",
    "      \n",
    "      ``experiment.binary_classification(coarse=coarse)``\n",
    "      \n",
    "  **Note**: this will result in more computation time. We therefore recommmend\n",
    "  to run this script on either a cluster or high performance PC. If so,\n",
    "  you may change the execution to use multiple cores to speed up computation\n",
    "  just before before experiment.execute():\n",
    "  \n",
    "      ``experiment.set_multicore_execution()``\n",
    "\n",
    "\n",
    "  - Add extensive evaluation: experiment.add_evaluation() before experiment.execute():\n",
    "  \n",
    "      ``experiment.add_evaluation()``"
   ]
  },
  {
   "cell_type": "code",
   "execution_count": null,
   "metadata": {},
   "outputs": [],
   "source": []
  }
 ],
 "metadata": {
  "kernelspec": {
   "display_name": "Python 3",
   "language": "python",
   "name": "python3"
  },
  "language_info": {
   "codemirror_mode": {
    "name": "ipython",
    "version": 3
   },
   "file_extension": ".py",
   "mimetype": "text/x-python",
   "name": "python",
   "nbconvert_exporter": "python",
   "pygments_lexer": "ipython3",
   "version": "3.7.3"
  }
 },
 "nbformat": 4,
 "nbformat_minor": 2
}
